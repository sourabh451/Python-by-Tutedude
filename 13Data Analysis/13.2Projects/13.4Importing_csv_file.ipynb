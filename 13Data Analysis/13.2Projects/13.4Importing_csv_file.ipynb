{
 "cells": [
  {
   "cell_type": "code",
   "execution_count": 1,
   "id": "68e395d9",
   "metadata": {},
   "outputs": [
    {
     "name": "stdout",
     "output_type": "stream",
     "text": [
      "     Unnamed: 0    0          1             2           3       4  \\\n",
      "0             0  mpg  cylinders  displacement  horsepower  weight   \n",
      "1             1   18          8           307         130    3504   \n",
      "2             2   15          8           350         165    3693   \n",
      "3             3   18          8           318         150    3436   \n",
      "4             4   16          8           304         150    3433   \n",
      "..          ...  ...        ...           ...         ...     ...   \n",
      "394         394   27          4           140          86    2790   \n",
      "395         395   44          4            97          52    2130   \n",
      "396         396   32          4           135          84    2295   \n",
      "397         397   28          4           120          79    2625   \n",
      "398         398   31          4           119          82    2720   \n",
      "\n",
      "                5           6       7                          8  \n",
      "0    acceleration  model year  origin                   car name  \n",
      "1              12          70       1  chevrolet chevelle malibu  \n",
      "2            11.5          70       1          buick skylark 320  \n",
      "3              11          70       1         plymouth satellite  \n",
      "4              12          70       1              amc rebel sst  \n",
      "..            ...         ...     ...                        ...  \n",
      "394          15.6          82       1            ford mustang gl  \n",
      "395          24.6          82       2                  vw pickup  \n",
      "396          11.6          82       1              dodge rampage  \n",
      "397          18.6          82       1                ford ranger  \n",
      "398          19.4          82       1                 chevy s-10  \n",
      "\n",
      "[399 rows x 10 columns]\n"
     ]
    }
   ],
   "source": [
    "import pandas as pd\n",
    "path = \"D:/Tutedude/Python/13Data Analysis/13.1CONTENT FILES/auto-mpg.csv\"\n",
    "df = pd.read_csv(path)\n",
    "print(df)"
   ]
  },
  {
   "cell_type": "code",
   "execution_count": null,
   "id": "ce7cc81c",
   "metadata": {},
   "outputs": [],
   "source": []
  }
 ],
 "metadata": {
  "kernelspec": {
   "display_name": "Python 3 (ipykernel)",
   "language": "python",
   "name": "python3"
  },
  "language_info": {
   "codemirror_mode": {
    "name": "ipython",
    "version": 3
   },
   "file_extension": ".py",
   "mimetype": "text/x-python",
   "name": "python",
   "nbconvert_exporter": "python",
   "pygments_lexer": "ipython3",
   "version": "3.11.7"
  }
 },
 "nbformat": 4,
 "nbformat_minor": 5
}
