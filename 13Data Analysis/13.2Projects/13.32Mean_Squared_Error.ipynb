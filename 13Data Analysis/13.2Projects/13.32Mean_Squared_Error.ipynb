{
 "cells": [
  {
   "cell_type": "code",
   "execution_count": 3,
   "id": "3c660ef6",
   "metadata": {},
   "outputs": [],
   "source": [
    "from sklearn.metrics import mean_squared_error\n",
    "import seaborn as sns\n",
    "flights = sns.load_dataset(\"flights\")"
   ]
  },
  {
   "cell_type": "code",
   "execution_count": 7,
   "id": "73e90b6a",
   "metadata": {},
   "outputs": [
    {
     "data": {
      "text/plain": [
       "2816493.326388889"
      ]
     },
     "execution_count": 7,
     "metadata": {},
     "output_type": "execute_result"
    }
   ],
   "source": [
    "mean_squared_error(flights['year'],flights['passengers'])"
   ]
  },
  {
   "cell_type": "code",
   "execution_count": 8,
   "id": "89dcb95d",
   "metadata": {},
   "outputs": [
    {
     "data": {
      "text/plain": [
       "array([2816493.32638889])"
      ]
     },
     "execution_count": 8,
     "metadata": {},
     "output_type": "execute_result"
    }
   ],
   "source": [
    "mean_squared_error(flights['year'],flights['passengers'] , multioutput = 'raw_values')"
   ]
  },
  {
   "cell_type": "code",
   "execution_count": 9,
   "id": "b2406be3",
   "metadata": {},
   "outputs": [
    {
     "data": {
      "text/plain": [
       "2816493.326388889"
      ]
     },
     "execution_count": 9,
     "metadata": {},
     "output_type": "execute_result"
    }
   ],
   "source": [
    "mean_squared_error(flights['year'],flights['passengers'] , multioutput = 'uniform_average')"
   ]
  },
  {
   "cell_type": "code",
   "execution_count": 10,
   "id": "1cd2da7e",
   "metadata": {},
   "outputs": [
    {
     "data": {
      "text/plain": [
       "2816493.326388889"
      ]
     },
     "execution_count": 10,
     "metadata": {},
     "output_type": "execute_result"
    }
   ],
   "source": [
    "mean_squared_error(flights['year'],flights['passengers'] , squared = True)"
   ]
  },
  {
   "cell_type": "code",
   "execution_count": 11,
   "id": "e68fb09d",
   "metadata": {},
   "outputs": [
    {
     "data": {
      "text/plain": [
       "1678.2411407151503"
      ]
     },
     "execution_count": 11,
     "metadata": {},
     "output_type": "execute_result"
    }
   ],
   "source": [
    "mean_squared_error(flights['year'],flights['passengers'] , squared = False)"
   ]
  },
  {
   "cell_type": "code",
   "execution_count": null,
   "id": "674973f2",
   "metadata": {},
   "outputs": [],
   "source": []
  }
 ],
 "metadata": {
  "kernelspec": {
   "display_name": "Python 3 (ipykernel)",
   "language": "python",
   "name": "python3"
  },
  "language_info": {
   "codemirror_mode": {
    "name": "ipython",
    "version": 3
   },
   "file_extension": ".py",
   "mimetype": "text/x-python",
   "name": "python",
   "nbconvert_exporter": "python",
   "pygments_lexer": "ipython3",
   "version": "3.11.7"
  }
 },
 "nbformat": 4,
 "nbformat_minor": 5
}
